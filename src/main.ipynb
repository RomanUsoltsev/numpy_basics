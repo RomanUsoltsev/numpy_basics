{
 "nbformat": 4,
 "nbformat_minor": 0,
 "metadata": {
  "coursera": {
   "course_slug": "neural-networks-deep-learning",
   "graded_item_id": "XHpfv",
   "launcher_item_id": "Zh0CU"
  },
  "kernelspec": {
   "display_name": "Python 3",
   "language": "python",
   "name": "python3"
  },
  "language_info": {
   "codemirror_mode": {
    "name": "ipython",
    "version": 3
   },
   "file_extension": ".py",
   "mimetype": "text/x-python",
   "name": "python",
   "nbconvert_exporter": "python",
   "pygments_lexer": "ipython3",
   "version": "3.8.3"
  },
  "colab": {
   "name": "Copy of Основы_Numpy.ipynb",
   "provenance": [],
   "collapsed_sections": []
  }
 },
 "cells": [
  {
   "cell_type": "code",
   "execution_count": 1,
   "outputs": [],
   "source": [
    "import numpy as np\n",
    "\n",
    "def apply_f(a, f):\n",
    "    if isinstance(a, list):\n",
    "        return list(map(lambda t: apply_f(t, f), a))\n",
    "    else:\n",
    "        return f(a)\n",
    "\n",
    "\n",
    "def basic_sigmoid(x):\n",
    "    s = 1 / (1 + np.exp(-x))\n",
    "    return s\n",
    "\n",
    "\n",
    "def sigmoid(x):\n",
    "    s = apply_f(x, lambda t: 1 / (1 + np.exp(-t)))\n",
    "    return s\n",
    "\n",
    "\n",
    "def sigmoid_derivative(x):\n",
    "    ds = apply_f(x, lambda t: np.exp(-x) / (1 + np.exp(-x)) ** 2)\n",
    "    return ds\n",
    "\n",
    "\n",
    "def sigmoid_tan(x):\n",
    "    s = apply_f(x, lambda t: (np.exp(t) - np.exp(-t)) / (np.exp(t) + np.exp(-t)))\n",
    "    return s\n",
    "\n",
    "\n",
    "def sigmoid_lin(x):\n",
    "    s = apply_f(x, lambda t: t * 1)\n",
    "    return s\n",
    "\n",
    "\n",
    "def sigmoid_limit(x):\n",
    "    a = dir(x)[0]\n",
    "    if (a == \"T\"):\n",
    "        s1 = lambda t: 1 if (t >= 0) else 0\n",
    "        s2 = np.vectorize(s1)\n",
    "        s = s2(x)\n",
    "    else:\n",
    "        s = apply_f(x, lambda t: 1 if (t >= 0) else 0)\n",
    "    return s\n",
    "\n",
    "\n",
    "def sigmoid_relu(x):\n",
    "    a = dir(x)[0]\n",
    "    if (a == \"T\"):\n",
    "        s1 = lambda t: t if (t >= 0) else 0\n",
    "        s2 = np.vectorize(s1)\n",
    "        s = s2(x)\n",
    "    else:\n",
    "        s = apply_f(x, lambda t: t if (t >= 0) else 0)\n",
    "    return s\n",
    "\n",
    "\n",
    "def image_to_vector(image):\n",
    "    v = image.ravel()\n",
    "    v_1 = np.zeros(shape=(v.size, 1))\n",
    "    for i in range(v.size):\n",
    "        v_1[i, 0] = v[i]\n",
    "    return v_1\n",
    "\n",
    "\n",
    "def softmax(x):\n",
    "    s = np.exp(x)\n",
    "    s_new = np.zeros(shape=x.shape)\n",
    "    shape_1 = x.shape[0]\n",
    "    shape_2 = x.shape[1]\n",
    "    for i in range(shape_1):\n",
    "        s_1 = np.sum(s, axis=1)\n",
    "        for j in range(shape_2):\n",
    "            s_new[i, j] = s[i, j] / s_1[i]\n",
    "    return s_new\n",
    "\n",
    "\n",
    "def normalize(x):\n",
    "    x_norm = np.linalg.norm(x, axis=1, keepdims=True)\n",
    "    x_new = np.zeros(shape=x.shape)\n",
    "    for i in range(x.shape[0]):\n",
    "        for j in range(x.shape[1]):\n",
    "            x_new[i, j] = x[i, j] / x_norm[i]\n",
    "    return x_new"
   ],
   "metadata": {
    "collapsed": false,
    "pycharm": {
     "name": "#%%\n"
    }
   }
  },
  {
   "cell_type": "code",
   "execution_count": 2,
   "outputs": [],
   "source": [
    "import matplotlib.pyplot as plt\n",
    "import pylab\n",
    "\n",
    "\n",
    "def test_basic_sigmoid():\n",
    "    assert round(basic_sigmoid(3), 2) == 0.95\n",
    "    print(\"test_basic_sigmoid\")\n",
    "\n",
    "\n",
    "def test_sigmoid():\n",
    "    x = np.array([1, 2, 3])\n",
    "    res = sigmoid(x)\n",
    "    assert round(res[0], 2) == 0.73\n",
    "    assert round(res[1], 2) == 0.88\n",
    "    assert round(res[2], 2) == 0.95\n",
    "    print(\"test_sigmoid\")\n",
    "\n",
    "    fig = plt.figure()\n",
    "    ax = fig.add_subplot(1, 1, 1)\n",
    "\n",
    "    ax.spines['left'].set_position('center')\n",
    "    ax.spines['bottom'].set_position('center')\n",
    "    x = np.linspace(-10, 10, 100)\n",
    "    plt.plot(x, sigmoid(x))\n",
    "    plt.show()\n",
    "\n",
    "\n",
    "def test_sigmoid_derivative():\n",
    "    x = np.array([1, 2, 3])\n",
    "    res = sigmoid_derivative(x)\n",
    "    assert round(res[0], 2) == 0.20\n",
    "    assert round(res[1], 2) == 0.10\n",
    "    assert round(res[2], 3) == 0.045\n",
    "    print(\"test_sigmoid_derivative\")\n",
    "\n",
    "\n",
    "def test_sigmoid_fun():\n",
    "    fig = plt.figure()\n",
    "    ax_1 = fig.add_subplot(2, 2, 1)\n",
    "    ax_2 = fig.add_subplot(2, 2, 2)\n",
    "    ax_3 = fig.add_subplot(2, 2, 3)\n",
    "    ax_4 = fig.add_subplot(2, 2, 4)\n",
    "\n",
    "    ax_1.spines['left'].set_position('center')\n",
    "    ax_1.spines['bottom'].set_position('center')\n",
    "\n",
    "    ax_2.spines['left'].set_position('center')\n",
    "    ax_2.spines['bottom'].set_position('center')\n",
    "\n",
    "    ax_3.spines['left'].set_position('center')\n",
    "    ax_3.spines['bottom'].set_position('center')\n",
    "\n",
    "    ax_4.spines['left'].set_position('center')\n",
    "    ax_4.spines['bottom'].set_position('center')\n",
    "\n",
    "    x = np.linspace(-10, 10, 100)\n",
    "    pylab.subplot(2, 2, 1)\n",
    "    pylab.plot(x, sigmoid_relu(x))\n",
    "    pylab.title(\"sigmoid_relu\")\n",
    "\n",
    "    pylab.subplot(2, 2, 2)\n",
    "    pylab.plot(x, sigmoid_tan(x))\n",
    "    pylab.title(\"sigmoid_tan\")\n",
    "\n",
    "    pylab.subplot(2, 2, 3)\n",
    "    pylab.plot(x, sigmoid_lin(x))\n",
    "    pylab.title(\"sigmoid_lin\")\n",
    "\n",
    "    pylab.subplot(2, 2, 4)\n",
    "    pylab.plot(x, sigmoid_limit(x))\n",
    "    pylab.title(\"sigmoid_limit\")\n",
    "\n",
    "    plt.show()\n",
    "\n",
    "\n",
    "def test_image_to_vector():\n",
    "    image = np.array([\n",
    "        [[0.67826139, 0.29380381],\n",
    "         [0.90714982, 0.52835647],\n",
    "         [0.4215251, 0.45017551]],\n",
    "\n",
    "        [[0.92814219, 0.96677647],\n",
    "         [0.85304703, 0.52351845],\n",
    "         [0.19981397, 0.27417313]],\n",
    "\n",
    "        [[0.60659855, 0.00533165],\n",
    "         [0.10820313, 0.49978937],\n",
    "         [0.34144279, 0.94630077]]\n",
    "    ])\n",
    "    res = image_to_vector(image)\n",
    "    assert round(res[5, 0], 2) == 0.45\n",
    "    assert round(res[8, 0], 2) == 0.85\n",
    "    assert round(res[2, 0], 2) == 0.91\n",
    "    print(\"test_image_to_vector\")\n",
    "\n",
    "\n",
    "def test_softmax():\n",
    "    x = np.array([\n",
    "        [9, 2, 5, 0, 0],\n",
    "        [7, 5, 0, 0, 0]])\n",
    "    res = softmax(x)\n",
    "    assert round(res[1, 0], 2) == 0.88\n",
    "    assert round(res[0, 3], 5) == 0.00012\n",
    "    assert round(res[0, 0], 2) == 0.98\n",
    "    print(\"test_softmax\")\n",
    "\n",
    "\n",
    "def test_normalize():\n",
    "    x = np.array([\n",
    "        [0, 3, 4],\n",
    "        [1, 6, 4]])\n",
    "    res = normalize(x)\n",
    "    assert res[0, 1] == 0.6\n",
    "    assert round(res[1, 1], 2) == 0.82\n",
    "    assert res[0, 2] == 0.8\n",
    "    print(\"test_normalize\")"
   ],
   "metadata": {
    "collapsed": false,
    "pycharm": {
     "name": "#%%\n"
    }
   }
  },
  {
   "cell_type": "code",
   "execution_count": 3,
   "outputs": [
    {
     "name": "stdout",
     "output_type": "stream",
     "text": [
      "test_basic_sigmoid\n",
      "test_sigmoid\n"
     ]
    },
    {
     "data": {
      "text/plain": "<Figure size 432x288 with 1 Axes>",
      "image/png": "[encoded data removed]"
     },
     "metadata": {
      "needs_background": "light"
     },
     "output_type": "display_data"
    },
    {
     "name": "stdout",
     "output_type": "stream",
     "text": [
      "test_sigmoid_derivative\n"
     ]
    },
    {
     "data": {
      "text/plain": "<Figure size 432x288 with 4 Axes>",
      "image/png": "[encoded data removed]"
     },
     "metadata": {
      "needs_background": "light"
     },
     "output_type": "display_data"
    },
    {
     "name": "stdout",
     "output_type": "stream",
     "text": [
      "test_image_to_vector\n",
      "test_softmax\n",
      "test_normalize\n"
     ]
    }
   ],
   "source": [
    "test_basic_sigmoid()\n",
    "test_sigmoid()\n",
    "test_sigmoid_derivative()\n",
    "test_sigmoid_fun()\n",
    "test_image_to_vector()\n",
    "test_softmax()\n",
    "test_normalize()"
   ],
   "metadata": {
    "collapsed": false,
    "pycharm": {
     "name": "#%%\n"
    }
   }
  }
 ]
}